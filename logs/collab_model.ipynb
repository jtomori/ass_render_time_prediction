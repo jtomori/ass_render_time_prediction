{
  "nbformat": 4,
  "nbformat_minor": 0,
  "metadata": {
    "colab": {
      "name": "collab_model.ipynb",
      "version": "0.3.2",
      "provenance": [],
      "collapsed_sections": []
    },
    "kernelspec": {
      "name": "python3",
      "display_name": "Python 3"
    },
    "accelerator": "GPU"
  },
  "cells": [
    {
      "metadata": {
        "id": "oxiDGz4gEdqF",
        "colab_type": "code",
        "colab": {
          "base_uri": "https://localhost:8080/",
          "height": 296
        },
        "outputId": "a90c6b52-b7a2-49a3-bf80-3661dc9845bc"
      },
      "cell_type": "code",
      "source": [
        "from __future__ import absolute_import, division, print_function\n",
        "from google.colab import drive\n",
        "drive.mount(\"/content/drive\")\n",
        "#!ls \"/content/drive/My Drive\"\n",
        "#!ls \"/mount_input\"\n",
        "\n",
        "import pathlib\n",
        "\n",
        "import pandas as pd\n",
        "import seaborn as sns\n",
        "\n",
        "import tensorflow as tf\n",
        "\n",
        "print(tf.__version__)\n",
        "from tensorflow import keras\n",
        "from tensorflow.keras import layers\n",
        "import matplotlib.pyplot as plt\n",
        "\n",
        "column_names = ['/render/frame time/rendering/microseconds','ar_GI_diffuse_depth','ar_AA_samples','ar_GI_specular_samples','ar_GI_transmission_samples',\n",
        "                'ar_GI_diffuse_samples', 'ar_GI_specular_depth', 'ar_bucket_size']\n",
        "#column_names = ['/render/frame time/rendering/microseconds','ar_AA_samples', 'ar_GI_specular_samples']\n",
        "\n",
        "raw_dataset = pd.read_csv(\"/content/drive/My Drive/mount_input/output_data.csv\", usecols=column_names, sep=\",\", skipinitialspace=True)\n",
        "\n",
        "dataset = raw_dataset.copy()\n",
        "\n",
        "dataset = dataset.astype(\"float64\")\n",
        "\n",
        "dataset.tail()"
      ],
      "execution_count": 1,
      "outputs": [
        {
          "output_type": "stream",
          "text": [
            "Drive already mounted at /content/drive; to attempt to forcibly remount, call drive.mount(\"/content/drive\", force_remount=True).\n",
            "1.13.0-rc1\n"
          ],
          "name": "stdout"
        },
        {
          "output_type": "execute_result",
          "data": {
            "text/html": [
              "<div>\n",
              "<style scoped>\n",
              "    .dataframe tbody tr th:only-of-type {\n",
              "        vertical-align: middle;\n",
              "    }\n",
              "\n",
              "    .dataframe tbody tr th {\n",
              "        vertical-align: top;\n",
              "    }\n",
              "\n",
              "    .dataframe thead th {\n",
              "        text-align: right;\n",
              "    }\n",
              "</style>\n",
              "<table border=\"1\" class=\"dataframe\">\n",
              "  <thead>\n",
              "    <tr style=\"text-align: right;\">\n",
              "      <th></th>\n",
              "      <th>ar_GI_specular_samples</th>\n",
              "      <th>/render/frame time/rendering/microseconds</th>\n",
              "      <th>ar_AA_samples</th>\n",
              "      <th>ar_bucket_size</th>\n",
              "      <th>ar_GI_diffuse_depth</th>\n",
              "      <th>ar_GI_diffuse_samples</th>\n",
              "      <th>ar_GI_specular_depth</th>\n",
              "      <th>ar_GI_transmission_samples</th>\n",
              "    </tr>\n",
              "  </thead>\n",
              "  <tbody>\n",
              "    <tr>\n",
              "      <th>983</th>\n",
              "      <td>6.0</td>\n",
              "      <td>2.889439e+08</td>\n",
              "      <td>4.0</td>\n",
              "      <td>482.0</td>\n",
              "      <td>9.0</td>\n",
              "      <td>2.0</td>\n",
              "      <td>7.0</td>\n",
              "      <td>3.0</td>\n",
              "    </tr>\n",
              "    <tr>\n",
              "      <th>984</th>\n",
              "      <td>2.0</td>\n",
              "      <td>7.004720e+07</td>\n",
              "      <td>6.0</td>\n",
              "      <td>455.0</td>\n",
              "      <td>8.0</td>\n",
              "      <td>3.0</td>\n",
              "      <td>3.0</td>\n",
              "      <td>0.0</td>\n",
              "    </tr>\n",
              "    <tr>\n",
              "      <th>985</th>\n",
              "      <td>2.0</td>\n",
              "      <td>6.282489e+06</td>\n",
              "      <td>3.0</td>\n",
              "      <td>297.0</td>\n",
              "      <td>10.0</td>\n",
              "      <td>8.0</td>\n",
              "      <td>10.0</td>\n",
              "      <td>2.0</td>\n",
              "    </tr>\n",
              "    <tr>\n",
              "      <th>986</th>\n",
              "      <td>1.0</td>\n",
              "      <td>1.118134e+08</td>\n",
              "      <td>4.0</td>\n",
              "      <td>378.0</td>\n",
              "      <td>10.0</td>\n",
              "      <td>4.0</td>\n",
              "      <td>2.0</td>\n",
              "      <td>4.0</td>\n",
              "    </tr>\n",
              "    <tr>\n",
              "      <th>987</th>\n",
              "      <td>9.0</td>\n",
              "      <td>1.675580e+09</td>\n",
              "      <td>6.0</td>\n",
              "      <td>907.0</td>\n",
              "      <td>9.0</td>\n",
              "      <td>5.0</td>\n",
              "      <td>1.0</td>\n",
              "      <td>1.0</td>\n",
              "    </tr>\n",
              "  </tbody>\n",
              "</table>\n",
              "</div>"
            ],
            "text/plain": [
              "     ar_GI_specular_samples  /render/frame time/rendering/microseconds  \\\n",
              "983                     6.0                               2.889439e+08   \n",
              "984                     2.0                               7.004720e+07   \n",
              "985                     2.0                               6.282489e+06   \n",
              "986                     1.0                               1.118134e+08   \n",
              "987                     9.0                               1.675580e+09   \n",
              "\n",
              "     ar_AA_samples  ar_bucket_size  ar_GI_diffuse_depth  \\\n",
              "983            4.0           482.0                  9.0   \n",
              "984            6.0           455.0                  8.0   \n",
              "985            3.0           297.0                 10.0   \n",
              "986            4.0           378.0                 10.0   \n",
              "987            6.0           907.0                  9.0   \n",
              "\n",
              "     ar_GI_diffuse_samples  ar_GI_specular_depth  ar_GI_transmission_samples  \n",
              "983                    2.0                   7.0                         3.0  \n",
              "984                    3.0                   3.0                         0.0  \n",
              "985                    8.0                  10.0                         2.0  \n",
              "986                    4.0                   2.0                         4.0  \n",
              "987                    5.0                   1.0                         1.0  "
            ]
          },
          "metadata": {
            "tags": []
          },
          "execution_count": 1
        }
      ]
    },
    {
      "metadata": {
        "id": "BZ2V4YUI1BuS",
        "colab_type": "code",
        "colab": {
          "base_uri": "https://localhost:8080/",
          "height": 558
        },
        "outputId": "e9f454bb-f1f9-4068-ca1b-a9c387fc3fb6"
      },
      "cell_type": "code",
      "source": [
        "\n",
        "dataset.isnull().sum()\n",
        "\n",
        "\n",
        "train_dataset = dataset.sample(frac=0.8,random_state=0)\n",
        "test_dataset = dataset.drop(train_dataset.index)\n",
        "\n",
        "\n",
        "#sns.pairplot(train_dataset[column_names], diag_kind=\"kde\")\n",
        "\n",
        "train_stats = train_dataset.describe()\n",
        "train_stats.pop(\"/render/frame time/rendering/microseconds\")\n",
        "train_stats = train_stats.transpose()\n",
        "train_stats\n",
        "\n",
        "#test_dataset.tail()\n",
        "train_labels = train_dataset.pop(\"/render/frame time/rendering/microseconds\")\n",
        "test_labels = test_dataset.pop(\"/render/frame time/rendering/microseconds\")\n",
        "def norm(x):\n",
        "  return (x - train_stats['mean']) / train_stats['std']\n",
        "\n",
        "normed_train_data = norm(train_dataset)\n",
        "normed_test_data = norm(test_dataset)\n",
        "\n",
        "def build_model():\n",
        "  model =  keras.Sequential([\n",
        "    layers.Dense(64, activation=tf.nn.relu, input_shape=[len(train_dataset.keys())]),\n",
        "    layers.Dense(64, activation=tf.nn.relu),\n",
        "    layers.Dense(32, activation=tf.nn.relu),\n",
        "    layers.Dense(16, activation=tf.nn.relu),\n",
        "    layers.Dense(1)\n",
        "  ])\n",
        "\n",
        "  optimizer = tf.keras.optimizers.Adam(0.001)\n",
        "\n",
        "  model.compile(loss=\"mse\",\n",
        "                optimizer=optimizer,\n",
        "                metrics=['mae', 'mse'])\n",
        "  return model\n",
        "\n",
        "model = build_model()\n",
        "\n",
        "early_stop = keras.callbacks.EarlyStopping(monitor='val_loss', patience=100)\n",
        "\n",
        "\n",
        "model.summary()\n",
        "\n",
        "example_batch = normed_train_data[:10]\n",
        "example_result = model.predict(example_batch)\n",
        "\n",
        "\n",
        "\n",
        "# Display training progress by printing a single dot for each completed epoch\n",
        "class PrintDot(keras.callbacks.Callback):\n",
        "  def on_epoch_end(self, epoch, logs):\n",
        "    if epoch % 100 == 0: print('')\n",
        "    print('.', end='')\n",
        "\n",
        "EPOCHS = 1000\n",
        "\n",
        "history = model.fit(\n",
        "  normed_train_data, train_labels,\n",
        "  epochs=EPOCHS, validation_split = 0.2, verbose=0,\n",
        "  callbacks=[early_stop, PrintDot()])"
      ],
      "execution_count": 2,
      "outputs": [
        {
          "output_type": "stream",
          "text": [
            "WARNING:tensorflow:From /usr/local/lib/python3.6/dist-packages/tensorflow/python/ops/resource_variable_ops.py:435: colocate_with (from tensorflow.python.framework.ops) is deprecated and will be removed in a future version.\n",
            "Instructions for updating:\n",
            "Colocations handled automatically by placer.\n",
            "WARNING:tensorflow:From /usr/local/lib/python3.6/dist-packages/tensorflow/python/keras/utils/losses_utils.py:170: to_float (from tensorflow.python.ops.math_ops) is deprecated and will be removed in a future version.\n",
            "Instructions for updating:\n",
            "Use tf.cast instead.\n",
            "_________________________________________________________________\n",
            "Layer (type)                 Output Shape              Param #   \n",
            "=================================================================\n",
            "dense (Dense)                (None, 64)                512       \n",
            "_________________________________________________________________\n",
            "dense_1 (Dense)              (None, 64)                4160      \n",
            "_________________________________________________________________\n",
            "dense_2 (Dense)              (None, 32)                2080      \n",
            "_________________________________________________________________\n",
            "dense_3 (Dense)              (None, 16)                528       \n",
            "_________________________________________________________________\n",
            "dense_4 (Dense)              (None, 1)                 17        \n",
            "=================================================================\n",
            "Total params: 7,297\n",
            "Trainable params: 7,297\n",
            "Non-trainable params: 0\n",
            "_________________________________________________________________\n",
            "WARNING:tensorflow:From /usr/local/lib/python3.6/dist-packages/tensorflow/python/ops/math_ops.py:3066: to_int32 (from tensorflow.python.ops.math_ops) is deprecated and will be removed in a future version.\n",
            "Instructions for updating:\n",
            "Use tf.cast instead.\n",
            "\n",
            "....................................................................................................\n",
            "....................................................................................................\n",
            ".........."
          ],
          "name": "stdout"
        }
      ]
    },
    {
      "metadata": {
        "id": "Ywphd1QzSkmV",
        "colab_type": "code",
        "colab": {
          "base_uri": "https://localhost:8080/",
          "height": 206
        },
        "outputId": "df2e68b8-ca6e-4100-ff79-2b6412a306ce"
      },
      "cell_type": "code",
      "source": [
        "hist = pd.DataFrame(history.history)\n",
        "hist['epoch'] = history.epoch\n",
        "hist.tail()"
      ],
      "execution_count": 3,
      "outputs": [
        {
          "output_type": "execute_result",
          "data": {
            "text/html": [
              "<div>\n",
              "<style scoped>\n",
              "    .dataframe tbody tr th:only-of-type {\n",
              "        vertical-align: middle;\n",
              "    }\n",
              "\n",
              "    .dataframe tbody tr th {\n",
              "        vertical-align: top;\n",
              "    }\n",
              "\n",
              "    .dataframe thead th {\n",
              "        text-align: right;\n",
              "    }\n",
              "</style>\n",
              "<table border=\"1\" class=\"dataframe\">\n",
              "  <thead>\n",
              "    <tr style=\"text-align: right;\">\n",
              "      <th></th>\n",
              "      <th>loss</th>\n",
              "      <th>mean_absolute_error</th>\n",
              "      <th>mean_squared_error</th>\n",
              "      <th>val_loss</th>\n",
              "      <th>val_mean_absolute_error</th>\n",
              "      <th>val_mean_squared_error</th>\n",
              "      <th>epoch</th>\n",
              "    </tr>\n",
              "  </thead>\n",
              "  <tbody>\n",
              "    <tr>\n",
              "      <th>205</th>\n",
              "      <td>1.243722e+18</td>\n",
              "      <td>542489024.0</td>\n",
              "      <td>1.243722e+18</td>\n",
              "      <td>8.695711e+17</td>\n",
              "      <td>518441088.0</td>\n",
              "      <td>8.695712e+17</td>\n",
              "      <td>205</td>\n",
              "    </tr>\n",
              "    <tr>\n",
              "      <th>206</th>\n",
              "      <td>1.243695e+18</td>\n",
              "      <td>542206528.0</td>\n",
              "      <td>1.243695e+18</td>\n",
              "      <td>8.691695e+17</td>\n",
              "      <td>517830112.0</td>\n",
              "      <td>8.691695e+17</td>\n",
              "      <td>206</td>\n",
              "    </tr>\n",
              "    <tr>\n",
              "      <th>207</th>\n",
              "      <td>1.243653e+18</td>\n",
              "      <td>541683072.0</td>\n",
              "      <td>1.243653e+18</td>\n",
              "      <td>8.689163e+17</td>\n",
              "      <td>517467840.0</td>\n",
              "      <td>8.689163e+17</td>\n",
              "      <td>207</td>\n",
              "    </tr>\n",
              "    <tr>\n",
              "      <th>208</th>\n",
              "      <td>1.243679e+18</td>\n",
              "      <td>542118528.0</td>\n",
              "      <td>1.243679e+18</td>\n",
              "      <td>8.695427e+17</td>\n",
              "      <td>518376576.0</td>\n",
              "      <td>8.695427e+17</td>\n",
              "      <td>208</td>\n",
              "    </tr>\n",
              "    <tr>\n",
              "      <th>209</th>\n",
              "      <td>1.243657e+18</td>\n",
              "      <td>541846080.0</td>\n",
              "      <td>1.243657e+18</td>\n",
              "      <td>8.689291e+17</td>\n",
              "      <td>517529408.0</td>\n",
              "      <td>8.689291e+17</td>\n",
              "      <td>209</td>\n",
              "    </tr>\n",
              "  </tbody>\n",
              "</table>\n",
              "</div>"
            ],
            "text/plain": [
              "             loss  mean_absolute_error  mean_squared_error      val_loss  \\\n",
              "205  1.243722e+18          542489024.0        1.243722e+18  8.695711e+17   \n",
              "206  1.243695e+18          542206528.0        1.243695e+18  8.691695e+17   \n",
              "207  1.243653e+18          541683072.0        1.243653e+18  8.689163e+17   \n",
              "208  1.243679e+18          542118528.0        1.243679e+18  8.695427e+17   \n",
              "209  1.243657e+18          541846080.0        1.243657e+18  8.689291e+17   \n",
              "\n",
              "     val_mean_absolute_error  val_mean_squared_error  epoch  \n",
              "205              518441088.0            8.695712e+17    205  \n",
              "206              517830112.0            8.691695e+17    206  \n",
              "207              517467840.0            8.689163e+17    207  \n",
              "208              518376576.0            8.695427e+17    208  \n",
              "209              517529408.0            8.689291e+17    209  "
            ]
          },
          "metadata": {
            "tags": []
          },
          "execution_count": 3
        }
      ]
    },
    {
      "metadata": {
        "id": "G1mWtMaeS6ic",
        "colab_type": "code",
        "colab": {
          "base_uri": "https://localhost:8080/",
          "height": 738
        },
        "outputId": "eefc942d-5ac6-41eb-a678-54ab7a5512b6"
      },
      "cell_type": "code",
      "source": [
        "import matplotlib.pyplot as plt\n",
        "\n",
        "def plot_history(history):\n",
        "  \n",
        "  hist = pd.DataFrame(history.history)\n",
        "\n",
        "  hist['epoch'] = history.epoch\n",
        "  \n",
        "  plt.figure()\n",
        "  plt.xlabel('Epoch')\n",
        "  plt.ylabel('Mean Abs Error [/render/frame time/rendering/microsecond]')\n",
        "  plt.plot(hist['epoch'], hist['mean_absolute_error'],\n",
        "           label='Train Error')\n",
        "  plt.plot(hist['epoch'], hist['val_mean_absolute_error'],\n",
        "           label = 'Val Error')\n",
        "  plt.legend()\n",
        "  #plt.ylim([0,5])\n",
        "\n",
        "  plt.figure()\n",
        "  plt.xlabel('Epoch')\n",
        "  plt.ylabel('Mean Square Error [$/render/frame time/rendering/microsecond^2$]')\n",
        "  plt.plot(hist['epoch'], hist['mean_squared_error'],\n",
        "           label='Train Error')\n",
        "  plt.plot(hist['epoch'], hist['val_mean_squared_error'],\n",
        "           label = 'Val Error')\n",
        "  plt.legend()\n",
        "  #plt.ylim([0,20])\n",
        "  \n",
        "plot_history(history)\n"
      ],
      "execution_count": 4,
      "outputs": [
        {
          "output_type": "display_data",
          "data": {
            "image/png": "[encoded data removed]",
            "text/plain": [
              "<Figure size 576x396 with 1 Axes>"
            ]
          },
          "metadata": {
            "tags": []
          }
        },
        {
          "output_type": "display_data",
          "data": {
            "image/png": "[encoded data removed]",
            "text/plain": [
              "<Figure size 576x396 with 1 Axes>"
            ]
          },
          "metadata": {
            "tags": []
          }
        }
      ]
    },
    {
      "metadata": {
        "id": "0mrpTWT5aY2_",
        "colab_type": "code",
        "colab": {
          "base_uri": "https://localhost:8080/",
          "height": 34
        },
        "outputId": "8307765a-fc86-4155-da44-74f25917f404"
      },
      "cell_type": "code",
      "source": [
        "loss, mae, mse = model.evaluate(normed_test_data, test_labels, verbose=0)\n",
        "\n",
        "print(\"Testing set Mean Abs Error: {:5.2f} MPG\".format(mae))\n"
      ],
      "execution_count": 5,
      "outputs": [
        {
          "output_type": "stream",
          "text": [
            "Testing set Mean Abs Error: 722520000.00 MPG\n"
          ],
          "name": "stdout"
        }
      ]
    },
    {
      "metadata": {
        "id": "l5-P3wADagDJ",
        "colab_type": "code",
        "colab": {
          "base_uri": "https://localhost:8080/",
          "height": 389
        },
        "outputId": "681fce8f-11fb-4ea9-8ea3-776a0f58b792"
      },
      "cell_type": "code",
      "source": [
        "test_predictions = model.predict(normed_test_data).flatten()\n",
        "\n",
        "plt.scatter(test_labels, test_predictions)\n",
        "plt.xlabel('True Values [MPG]')\n",
        "plt.ylabel('Predictions [MPG]')\n",
        "plt.axis('equal')\n",
        "plt.axis('square')\n",
        "#plt.xlim([0,plt.xlim()[1]])\n",
        "#plt.ylim([0,plt.ylim()[1]])\n",
        "#_ = plt.plot([-100, 100], [-100, 100])\n"
      ],
      "execution_count": 6,
      "outputs": [
        {
          "output_type": "execute_result",
          "data": {
            "text/plain": [
              "(-427844859.1586246, 8993230852.158625, -98205625.38787712, 9322870085.929373)"
            ]
          },
          "metadata": {
            "tags": []
          },
          "execution_count": 6
        },
        {
          "output_type": "display_data",
          "data": {
            "image/png": "[encoded data removed]",
            "text/plain": [
              "<Figure size 576x396 with 1 Axes>"
            ]
          },
          "metadata": {
            "tags": []
          }
        }
      ]
    },
    {
      "metadata": {
        "id": "_RTSeZCYCqS5",
        "colab_type": "code",
        "colab": {
          "base_uri": "https://localhost:8080/",
          "height": 363
        },
        "outputId": "8c7fe8d4-3146-4637-d71d-435d54b769d4"
      },
      "cell_type": "code",
      "source": [
        "error = test_predictions - test_labels\n",
        "plt.hist(error, bins = 25)\n",
        "plt.xlabel(\"Prediction Error [MPG]\")\n",
        "_ = plt.ylabel(\"Count\")\n"
      ],
      "execution_count": 7,
      "outputs": [
        {
          "output_type": "display_data",
          "data": {
            "image/png": "[encoded data removed]",
            "text/plain": [
              "<Figure size 576x396 with 1 Axes>"
            ]
          },
          "metadata": {
            "tags": []
          }
        }
      ]
    }
  ]
}