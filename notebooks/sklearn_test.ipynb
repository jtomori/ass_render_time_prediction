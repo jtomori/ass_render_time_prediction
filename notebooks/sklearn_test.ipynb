{
 "cells": [
  {
   "cell_type": "markdown",
   "metadata": {},
   "source": [
    "*Testing sklearn linear regression, exporting values and predicting in module-independent function*"
   ]
  },
  {
   "cell_type": "code",
   "execution_count": 87,
   "metadata": {},
   "outputs": [],
   "source": [
    "import numpy as np\n",
    "from sklearn.linear_model import LinearRegression\n",
    "import matplotlib.pyplot as plt"
   ]
  },
  {
   "cell_type": "code",
   "execution_count": 88,
   "metadata": {},
   "outputs": [],
   "source": [
    "x = np.array([[1, 1, 4], [1, 2, 6], [2, 2, 9], [2, 3, 10]])\n",
    "# y = 1 * x_0 + 2 * x_1 + 6\n",
    "y = np.dot(x, np.array([1, 2, 7])) + 6"
   ]
  },
  {
   "cell_type": "code",
   "execution_count": 89,
   "metadata": {},
   "outputs": [
    {
     "name": "stdout",
     "output_type": "stream",
     "text": [
      "x:\n",
      " [[ 1  1  4]\n",
      " [ 1  2  6]\n",
      " [ 2  2  9]\n",
      " [ 2  3 10]]\n",
      "y:\n",
      " [37 53 75 84]\n"
     ]
    },
    {
     "data": {
      "image/png": "[encoded data removed]",
      "text/plain": [
       "<Figure size 432x288 with 1 Axes>"
      ]
     },
     "metadata": {
      "needs_background": "light"
     },
     "output_type": "display_data"
    }
   ],
   "source": [
    "print(\"x:\\n\", x)\n",
    "print(\"y:\\n\", y)\n",
    "\n",
    "plt.plot(x)\n",
    "plt.show()"
   ]
  },
  {
   "cell_type": "code",
   "execution_count": 90,
   "metadata": {},
   "outputs": [
    {
     "name": "stdout",
     "output_type": "stream",
     "text": [
      "1.0\n",
      "[1. 2. 7.]\n",
      "6.000000000000007\n"
     ]
    }
   ],
   "source": [
    "reg = LinearRegression().fit(x, y)\n",
    "print(reg.score(x, y))\n",
    "print(reg.coef_) # coeffs\n",
    "print(reg.intercept_) # offset"
   ]
  },
  {
   "cell_type": "code",
   "execution_count": 91,
   "metadata": {},
   "outputs": [
    {
     "data": {
      "text/plain": [
       "array([68.])"
      ]
     },
     "execution_count": 91,
     "metadata": {},
     "output_type": "execute_result"
    }
   ],
   "source": [
    "predict_val = np.array([[3, 5, 7]])\n",
    "coeff = reg.coef_\n",
    "offset = reg.intercept_\n",
    "\n",
    "reg.predict(predict_val)"
   ]
  },
  {
   "cell_type": "code",
   "execution_count": 92,
   "metadata": {},
   "outputs": [
    {
     "name": "stdout",
     "output_type": "stream",
     "text": [
      "68.0\n"
     ]
    }
   ],
   "source": [
    "def predict(array, coeff, offset):\n",
    "    sum = 0\n",
    "    for i, el in enumerate(array):\n",
    "        sum += el * coeff[i]\n",
    "    sum += offset\n",
    "    return sum\n",
    "\n",
    "print(predict(predict_val.flatten(), coeff, offset))"
   ]
  }
 ],
 "metadata": {
  "kernelspec": {
   "display_name": "Python 3",
   "language": "python",
   "name": "python3"
  },
  "language_info": {
   "codemirror_mode": {
    "name": "ipython",
    "version": 3
   },
   "file_extension": ".py",
   "mimetype": "text/x-python",
   "name": "python",
   "nbconvert_exporter": "python",
   "pygments_lexer": "ipython3",
   "version": "3.5.2"
  }
 },
 "nbformat": 4,
 "nbformat_minor": 2
}
